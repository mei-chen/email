{
    "cells": [
        {
            "cell_type": "markdown",
            "source": [
                "# Political Email NER \n",
                "\n",
                "https://dataverse.scholarsportal.info/dataset.xhtml?persistentId=doi:10.23685/GZQ8Z2\n",
                "\n",
                "## Steps\n",
                "1) extract relevant elements from the XML into pandas dataframe"
            ],
            "metadata": {}
        },
        {
            "cell_type": "code",
            "execution_count": 7,
            "source": [
                "import pandas as pd\n",
                "import xml.etree.ElementTree as ET\n",
                "\n",
                "#Con_dono_root = Con_dono_tree.getroot()"
            ],
            "outputs": [],
            "metadata": {}
        },
        {
            "cell_type": "code",
            "execution_count": 8,
            "source": [
                "# parse out the elements that are of interest\n",
                "con_dono_tree = ET.parse('PE-Conservatives-Donation-Subscription.xml')\n",
                "\n",
                "from_name = []\n",
                "for i in con_dono_tree.findall('./message/from/name'): from_name.append(i.text)\n",
                "\n",
                "date = []\n",
                "for i in con_dono_tree.findall('./message/received/date'): date.append(i.text)\n",
                "\n",
                "subject = []\n",
                "for i in con_dono_tree.findall('./message/subject'): subject.append(i.text)\n",
                "\n",
                "text = []\n",
                "for i in con_dono_tree.findall('./message/text'): text.append(i.text)\n"
            ],
            "outputs": [],
            "metadata": {}
        },
        {
            "cell_type": "code",
            "execution_count": 9,
            "source": [
                "#put it all together in a df\n",
                "df = pd.DataFrame(zip(date, from_name, subject, text), columns= ['date', 'from', 'subject', 'text'])"
            ],
            "outputs": [],
            "metadata": {}
        },
        {
            "cell_type": "code",
            "execution_count": 10,
            "source": [
                "import numpy as np\n",
                "import pandas as pd\n",
                "import matplotlib.pyplot as plt\n",
                "import matplotlib.dates as dates\n",
                "import matplotlib.gridspec as gridspec\n",
                "from datetime import timedelta, datetime, date\n"
            ],
            "outputs": [],
            "metadata": {}
        },
        {
            "cell_type": "code",
            "execution_count": 11,
            "source": [
                "# import nltk\n",
                "# from nltk.tag.stanford import NERTagger\n",
                "# st = NERTagger('stanford-ner/all.3class.distsim.crf.ser.gz', 'stanford-ner/stanford-ner.jar')\n",
                "# text = df['text'][5]\n",
                "\n",
                "# for sent in nltk.sent_tokenize(text):\n",
                "#     tokens = nltk.tokenize.word_tokenize(sent)\n",
                "#     tags = st.tag(tokens)\n",
                "#     for tag in tags:\n",
                "#         if tag[1]=='PERSON': print (tag)"
            ],
            "outputs": [],
            "metadata": {}
        },
        {
            "cell_type": "code",
            "execution_count": 17,
            "source": [
                "text = df['text'][5]"
            ],
            "outputs": [],
            "metadata": {}
        },
        {
            "cell_type": "code",
            "execution_count": 22,
            "source": [
                "import spacy\n",
                "\n",
                "nlp = spacy.load(\"en_core_web_sm\")\n",
                "doc = nlp(text)\n",
                "\n",
                "for ent in doc.ents:\n",
                "    persons = [ent.text for ent in doc.ents if ent.label_ == 'PERSON']\n",
                "\n",
                "print(persons)\n"
            ],
            "outputs": [
                {
                    "output_type": "stream",
                    "name": "stderr",
                    "text": [
                        "ERROR:root:Internal Python error in the inspect module.\n",
                        "Below is the traceback from this internal error.\n",
                        "\n"
                    ]
                },
                {
                    "output_type": "stream",
                    "name": "stdout",
                    "text": [
                        "Traceback (most recent call last):\n",
                        "  File \"/Users/mlchen/opt/anaconda3/lib/python3.7/site-packages/IPython/core/interactiveshell.py\", line 3326, in run_code\n",
                        "    exec(code_obj, self.user_global_ns, self.user_ns)\n",
                        "  File \"<ipython-input-22-276d216452b5>\", line 7, in <module>\n",
                        "    persons = [ent.text for ent in doc2.ents if ent.label_ == 'PERSON']\n",
                        "NameError: name 'doc2' is not defined\n",
                        "\n",
                        "During handling of the above exception, another exception occurred:\n",
                        "\n",
                        "Traceback (most recent call last):\n",
                        "  File \"/Users/mlchen/opt/anaconda3/lib/python3.7/site-packages/IPython/core/interactiveshell.py\", line 2040, in showtraceback\n",
                        "    stb = value._render_traceback_()\n",
                        "AttributeError: 'NameError' object has no attribute '_render_traceback_'\n",
                        "\n",
                        "During handling of the above exception, another exception occurred:\n",
                        "\n",
                        "Traceback (most recent call last):\n",
                        "  File \"/Users/mlchen/opt/anaconda3/lib/python3.7/site-packages/tensorflow_core/python/pywrap_tensorflow_internal.py\", line 18, in swig_import_helper\n",
                        "    fp, pathname, description = imp.find_module('_pywrap_tensorflow_internal', [dirname(__file__)])\n",
                        "  File \"/Users/mlchen/opt/anaconda3/lib/python3.7/imp.py\", line 296, in find_module\n",
                        "    raise ImportError(_ERR_MSG.format(name), name=name)\n",
                        "ImportError: No module named '_pywrap_tensorflow_internal'\n",
                        "\n",
                        "During handling of the above exception, another exception occurred:\n",
                        "\n",
                        "Traceback (most recent call last):\n",
                        "  File \"/Users/mlchen/opt/anaconda3/lib/python3.7/site-packages/tensorflow_core/python/pywrap_tensorflow.py\", line 58, in <module>\n",
                        "    from tensorflow.python.pywrap_tensorflow_internal import *\n",
                        "  File \"/Users/mlchen/opt/anaconda3/lib/python3.7/site-packages/tensorflow_core/python/pywrap_tensorflow_internal.py\", line 28, in <module>\n",
                        "    _pywrap_tensorflow_internal = swig_import_helper()\n",
                        "  File \"/Users/mlchen/opt/anaconda3/lib/python3.7/site-packages/tensorflow_core/python/pywrap_tensorflow_internal.py\", line 20, in swig_import_helper\n",
                        "    import _pywrap_tensorflow_internal\n",
                        "ModuleNotFoundError: No module named '_pywrap_tensorflow_internal'\n",
                        "\n",
                        "During handling of the above exception, another exception occurred:\n",
                        "\n",
                        "Traceback (most recent call last):\n",
                        "  File \"/Users/mlchen/opt/anaconda3/lib/python3.7/site-packages/IPython/core/ultratb.py\", line 1101, in get_records\n",
                        "    return _fixed_getinnerframes(etb, number_of_lines_of_context, tb_offset)\n",
                        "  File \"/Users/mlchen/opt/anaconda3/lib/python3.7/site-packages/IPython/core/ultratb.py\", line 319, in wrapped\n",
                        "    return f(*args, **kwargs)\n",
                        "  File \"/Users/mlchen/opt/anaconda3/lib/python3.7/site-packages/IPython/core/ultratb.py\", line 353, in _fixed_getinnerframes\n",
                        "    records = fix_frame_records_filenames(inspect.getinnerframes(etb, context))\n",
                        "  File \"/Users/mlchen/opt/anaconda3/lib/python3.7/inspect.py\", line 1502, in getinnerframes\n",
                        "    frameinfo = (tb.tb_frame,) + getframeinfo(tb, context)\n",
                        "  File \"/Users/mlchen/opt/anaconda3/lib/python3.7/inspect.py\", line 1460, in getframeinfo\n",
                        "    filename = getsourcefile(frame) or getfile(frame)\n",
                        "  File \"/Users/mlchen/opt/anaconda3/lib/python3.7/inspect.py\", line 696, in getsourcefile\n",
                        "    if getattr(getmodule(object, filename), '__loader__', None) is not None:\n",
                        "  File \"/Users/mlchen/opt/anaconda3/lib/python3.7/inspect.py\", line 733, in getmodule\n",
                        "    if ismodule(module) and hasattr(module, '__file__'):\n",
                        "  File \"/Users/mlchen/opt/anaconda3/lib/python3.7/site-packages/tensorflow/__init__.py\", line 50, in __getattr__\n",
                        "    module = self._load()\n",
                        "  File \"/Users/mlchen/opt/anaconda3/lib/python3.7/site-packages/tensorflow/__init__.py\", line 44, in _load\n",
                        "    module = _importlib.import_module(self.__name__)\n",
                        "  File \"/Users/mlchen/opt/anaconda3/lib/python3.7/importlib/__init__.py\", line 127, in import_module\n",
                        "    return _bootstrap._gcd_import(name[level:], package, level)\n",
                        "  File \"<frozen importlib._bootstrap>\", line 1006, in _gcd_import\n",
                        "  File \"<frozen importlib._bootstrap>\", line 983, in _find_and_load\n",
                        "  File \"<frozen importlib._bootstrap>\", line 953, in _find_and_load_unlocked\n",
                        "  File \"<frozen importlib._bootstrap>\", line 219, in _call_with_frames_removed\n",
                        "  File \"<frozen importlib._bootstrap>\", line 1006, in _gcd_import\n",
                        "  File \"<frozen importlib._bootstrap>\", line 983, in _find_and_load\n",
                        "  File \"<frozen importlib._bootstrap>\", line 967, in _find_and_load_unlocked\n",
                        "  File \"<frozen importlib._bootstrap>\", line 677, in _load_unlocked\n",
                        "  File \"<frozen importlib._bootstrap_external>\", line 728, in exec_module\n",
                        "  File \"<frozen importlib._bootstrap>\", line 219, in _call_with_frames_removed\n",
                        "  File \"/Users/mlchen/opt/anaconda3/lib/python3.7/site-packages/tensorflow_core/__init__.py\", line 42, in <module>\n",
                        "    from . _api.v2 import audio\n",
                        "  File \"/Users/mlchen/opt/anaconda3/lib/python3.7/site-packages/tensorflow_core/_api/v2/audio/__init__.py\", line 10, in <module>\n",
                        "    from tensorflow.python.ops.gen_audio_ops import decode_wav\n",
                        "  File \"/Users/mlchen/opt/anaconda3/lib/python3.7/site-packages/tensorflow_core/python/ops/gen_audio_ops.py\", line 9, in <module>\n",
                        "    from tensorflow.python import pywrap_tensorflow as _pywrap_tensorflow\n",
                        "  File \"/Users/mlchen/opt/anaconda3/lib/python3.7/site-packages/tensorflow/__init__.py\", line 50, in __getattr__\n",
                        "    module = self._load()\n",
                        "  File \"/Users/mlchen/opt/anaconda3/lib/python3.7/site-packages/tensorflow/__init__.py\", line 44, in _load\n",
                        "    module = _importlib.import_module(self.__name__)\n",
                        "  File \"/Users/mlchen/opt/anaconda3/lib/python3.7/importlib/__init__.py\", line 127, in import_module\n",
                        "    return _bootstrap._gcd_import(name[level:], package, level)\n",
                        "  File \"/Users/mlchen/opt/anaconda3/lib/python3.7/site-packages/tensorflow_core/python/__init__.py\", line 49, in <module>\n",
                        "    from tensorflow.python import pywrap_tensorflow\n",
                        "  File \"/Users/mlchen/opt/anaconda3/lib/python3.7/site-packages/tensorflow_core/python/pywrap_tensorflow.py\", line 74, in <module>\n",
                        "    raise ImportError(msg)\n",
                        "ImportError: Traceback (most recent call last):\n",
                        "  File \"/Users/mlchen/opt/anaconda3/lib/python3.7/site-packages/IPython/core/interactiveshell.py\", line 3326, in run_code\n",
                        "    exec(code_obj, self.user_global_ns, self.user_ns)\n",
                        "  File \"<ipython-input-22-276d216452b5>\", line 7, in <module>\n",
                        "    persons = [ent.text for ent in doc2.ents if ent.label_ == 'PERSON']\n",
                        "NameError: name 'doc2' is not defined\n",
                        "\n",
                        "During handling of the above exception, another exception occurred:\n",
                        "\n",
                        "Traceback (most recent call last):\n",
                        "  File \"/Users/mlchen/opt/anaconda3/lib/python3.7/site-packages/IPython/core/interactiveshell.py\", line 2040, in showtraceback\n",
                        "    stb = value._render_traceback_()\n",
                        "AttributeError: 'NameError' object has no attribute '_render_traceback_'\n",
                        "\n",
                        "During handling of the above exception, another exception occurred:\n",
                        "\n",
                        "Traceback (most recent call last):\n",
                        "  File \"/Users/mlchen/opt/anaconda3/lib/python3.7/site-packages/tensorflow_core/python/pywrap_tensorflow_internal.py\", line 18, in swig_import_helper\n",
                        "    fp, pathname, description = imp.find_module('_pywrap_tensorflow_internal', [dirname(__file__)])\n",
                        "  File \"/Users/mlchen/opt/anaconda3/lib/python3.7/imp.py\", line 296, in find_module\n",
                        "    raise ImportError(_ERR_MSG.format(name), name=name)\n",
                        "ImportError: No module named '_pywrap_tensorflow_internal'\n",
                        "\n",
                        "During handling of the above exception, another exception occurred:\n",
                        "\n",
                        "Traceback (most recent call last):\n",
                        "  File \"/Users/mlchen/opt/anaconda3/lib/python3.7/site-packages/tensorflow_core/python/pywrap_tensorflow.py\", line 58, in <module>\n",
                        "    from tensorflow.python.pywrap_tensorflow_internal import *\n",
                        "  File \"/Users/mlchen/opt/anaconda3/lib/python3.7/site-packages/tensorflow_core/python/pywrap_tensorflow_internal.py\", line 28, in <module>\n",
                        "    _pywrap_tensorflow_internal = swig_import_helper()\n",
                        "  File \"/Users/mlchen/opt/anaconda3/lib/python3.7/site-packages/tensorflow_core/python/pywrap_tensorflow_internal.py\", line 20, in swig_import_helper\n",
                        "    import _pywrap_tensorflow_internal\n",
                        "ModuleNotFoundError: No module named '_pywrap_tensorflow_internal'\n",
                        "\n",
                        "\n",
                        "Failed to load the native TensorFlow runtime.\n",
                        "\n",
                        "See https://www.tensorflow.org/install/errors\n",
                        "\n",
                        "for some common reasons and solutions.  Include the entire stack trace\n",
                        "above this error message when asking for help.\n"
                    ]
                },
                {
                    "output_type": "error",
                    "ename": "NameError",
                    "evalue": "name 'doc2' is not defined",
                    "traceback": [
                        "\u001b[0;31m---------------------------------------------------------------------------\u001b[0m"
                    ]
                }
            ],
            "metadata": {}
        },
        {
            "cell_type": "code",
            "execution_count": null,
            "source": [
                "df.text"
            ],
            "outputs": [
                {
                    "output_type": "execute_result",
                    "data": {
                        "text/plain": [
                            "0                                                       \n",
                            "1      http://www.conservative.ca\\nSpeech from Prime ...\n",
                            "2      https://donate.conservative.ca/MembershipDrive...\n",
                            "3      http://www.conservative.ca/NewTaxBreaks/\\nFrie...\n",
                            "4      https://donate.conservative.ca?mpi=c4864059e7&...\n",
                            "                             ...                        \n",
                            "650    Dear Mike,\\n\\nWhile the Liberals have been bus...\n",
                            "651    Your weekly update on the CPC...\\nFollow the C...\n",
                            "652    Dear Mike,\\n\\nHalloween is a spooky time of ye...\n",
                            "653    The Q3 fundraising results are in.\\n\\nYou are ...\n",
                            "654    Dear Mike,\\n\\nYou may have heard about the Q3 ...\n",
                            "Name: text, Length: 655, dtype: object"
                        ]
                    },
                    "metadata": {},
                    "execution_count": 136
                }
            ],
            "metadata": {}
        },
        {
            "cell_type": "code",
            "execution_count": null,
            "source": [],
            "outputs": [],
            "metadata": {}
        }
    ],
    "metadata": {
        "orig_nbformat": 4,
        "language_info": {
            "name": "python",
            "version": "3.7.4",
            "mimetype": "text/x-python",
            "codemirror_mode": {
                "name": "ipython",
                "version": 3
            },
            "pygments_lexer": "ipython3",
            "nbconvert_exporter": "python",
            "file_extension": ".py"
        },
        "kernelspec": {
            "name": "python3",
            "display_name": "Python 3.7.4 64-bit ('base': conda)"
        },
        "interpreter": {
            "hash": "80e9c17d855a79b4686c13fbc9e288baa917934809c26296e289fbe327eebd7b"
        }
    },
    "nbformat": 4,
    "nbformat_minor": 2
}