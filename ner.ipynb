{
    "cells": [
        {
            "cell_type": "markdown",
            "source": [
                "# Political Email NER \n",
                "\n",
                "https://dataverse.scholarsportal.info/dataset.xhtml?persistentId=doi:10.23685/GZQ8Z2\n",
                "\n",
                "## Steps\n",
                "1) extract relevant elements from the XML into pandas dataframe"
            ],
            "metadata": {}
        },
        {
            "cell_type": "code",
            "execution_count": 7,
            "source": [
                "import pandas as pd\n",
                "import xml.etree.ElementTree as ET\n",
                "\n",
                "#Con_dono_root = Con_dono_tree.getroot()"
            ],
            "outputs": [],
            "metadata": {}
        },
        {
            "cell_type": "code",
            "execution_count": 8,
            "source": [
                "# parse out the elements that are of interest\n",
                "con_dono_tree = ET.parse('PE-Conservatives-Donation-Subscription.xml')\n",
                "\n",
                "from_name = []\n",
                "for i in con_dono_tree.findall('./message/from/name'): from_name.append(i.text)\n",
                "\n",
                "date = []\n",
                "for i in con_dono_tree.findall('./message/received/date'): date.append(i.text)\n",
                "\n",
                "subject = []\n",
                "for i in con_dono_tree.findall('./message/subject'): subject.append(i.text)\n",
                "\n",
                "text = []\n",
                "for i in con_dono_tree.findall('./message/text'): text.append(i.text)\n"
            ],
            "outputs": [],
            "metadata": {}
        },
        {
            "cell_type": "code",
            "execution_count": 9,
            "source": [
                "#put it all together in a df\n",
                "df = pd.DataFrame(zip(date, from_name, subject, text), columns= ['date', 'from', 'subject', 'text'])"
            ],
            "outputs": [],
            "metadata": {}
        },
        {
            "cell_type": "code",
            "execution_count": 10,
            "source": [
                "import numpy as np\n",
                "import pandas as pd\n",
                "import matplotlib.pyplot as plt\n",
                "import matplotlib.dates as dates\n",
                "import matplotlib.gridspec as gridspec\n",
                "from datetime import timedelta, datetime, date\n"
            ],
            "outputs": [],
            "metadata": {}
        },
        {
            "cell_type": "code",
            "execution_count": 11,
            "source": [
                "# import nltk\n",
                "# from nltk.tag.stanford import NERTagger\n",
                "# st = NERTagger('stanford-ner/all.3class.distsim.crf.ser.gz', 'stanford-ner/stanford-ner.jar')\n",
                "# text = df['text'][5]\n",
                "\n",
                "# for sent in nltk.sent_tokenize(text):\n",
                "#     tokens = nltk.tokenize.word_tokenize(sent)\n",
                "#     tags = st.tag(tokens)\n",
                "#     for tag in tags:\n",
                "#         if tag[1]=='PERSON': print (tag)"
            ],
            "outputs": [],
            "metadata": {}
        },
        {
            "cell_type": "code",
            "execution_count": 17,
            "source": [
                "text = df['text'][5]"
            ],
            "outputs": [],
            "metadata": {}
        },
        {
            "cell_type": "code",
            "execution_count": 23,
            "source": [
                "import spacy\n",
                "\n",
                "nlp = spacy.load(\"en_core_web_sm\")\n",
                "doc = nlp(text)\n",
                "\n",
                "for ent in doc.ents:\n",
                "    persons = [ent.text for ent in doc.ents if ent.label_ == 'PERSON']\n",
                "\n",
                "print(persons)\n"
            ],
            "outputs": [
                {
                    "output_type": "stream",
                    "name": "stdout",
                    "text": [
                        "['Justin Trudeau', 'Thomas Mulcair', 'Justin Trudeau', 'Thomas Mulcair']\n"
                    ]
                }
            ],
            "metadata": {}
        },
        {
            "cell_type": "code",
            "execution_count": null,
            "source": [
                "df.text"
            ],
            "outputs": [
                {
                    "output_type": "execute_result",
                    "data": {
                        "text/plain": [
                            "0                                                       \n",
                            "1      http://www.conservative.ca\\nSpeech from Prime ...\n",
                            "2      https://donate.conservative.ca/MembershipDrive...\n",
                            "3      http://www.conservative.ca/NewTaxBreaks/\\nFrie...\n",
                            "4      https://donate.conservative.ca?mpi=c4864059e7&...\n",
                            "                             ...                        \n",
                            "650    Dear Mike,\\n\\nWhile the Liberals have been bus...\n",
                            "651    Your weekly update on the CPC...\\nFollow the C...\n",
                            "652    Dear Mike,\\n\\nHalloween is a spooky time of ye...\n",
                            "653    The Q3 fundraising results are in.\\n\\nYou are ...\n",
                            "654    Dear Mike,\\n\\nYou may have heard about the Q3 ...\n",
                            "Name: text, Length: 655, dtype: object"
                        ]
                    },
                    "metadata": {},
                    "execution_count": 136
                }
            ],
            "metadata": {}
        },
        {
            "cell_type": "code",
            "execution_count": null,
            "source": [],
            "outputs": [],
            "metadata": {}
        }
    ],
    "metadata": {
        "orig_nbformat": 4,
        "language_info": {
            "name": "python",
            "version": "3.7.4",
            "mimetype": "text/x-python",
            "codemirror_mode": {
                "name": "ipython",
                "version": 3
            },
            "pygments_lexer": "ipython3",
            "nbconvert_exporter": "python",
            "file_extension": ".py"
        },
        "kernelspec": {
            "name": "python3",
            "display_name": "Python 3.7.4 64-bit ('base': conda)"
        },
        "interpreter": {
            "hash": "80e9c17d855a79b4686c13fbc9e288baa917934809c26296e289fbe327eebd7b"
        }
    },
    "nbformat": 4,
    "nbformat_minor": 2
}